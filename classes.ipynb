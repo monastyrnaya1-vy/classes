{
 "cells": [
  {
   "cell_type": "code",
   "execution_count": 115,
   "metadata": {},
   "outputs": [],
   "source": [
    "import requests\n"
   ]
  },
  {
   "cell_type": "code",
   "execution_count": 288,
   "metadata": {},
   "outputs": [],
   "source": [
    "class Rate:\n",
    "   \n",
    "    \n",
    "    def exchange_rates(self):\n",
    "        self.d = requests.get('https://www.cbr-xml-daily.ru/daily_json.js')\n",
    "        self.dict_ = self.d.json()['Valute']\n",
    "        return self.dict_\n",
    "       \n",
    "    def max_element(self):\n",
    "        response = self.exchange_rates()\n",
    "        k = []\n",
    "        for i, v in response.items():\n",
    "            val = list(v.values())\n",
    "            k.append(val[5])\n",
    "            max_ = max(k)\n",
    "        for i, v in response.items():        \n",
    "            if max_ in v.values():\n",
    "                return v.get('Name')\n",
    "            \n",
    "    \n",
    "    def make_format(self, currency):\n",
    "        response = self.exchange_rates()\n",
    "        return response[currency]\n",
    "     \n",
    "    def diff(self, format_, diff):\n",
    "        currency = input(\"Введите валюту\")\n",
    "        response = self.exchange_rates()\n",
    "        self.diff = True\n",
    "        self.format_ = 'full'\n",
    "        for i in response:\n",
    "            if self.format_ == 'full' and self.diff == True:\n",
    "                return (response[currency]['Value'] - response[currency]['Previous'])\n",
    "        \n",
    "        return 'Error'\n",
    "    \n",
    "    def eur(self):\n",
    "        return self.make_format('EUR')\n",
    "    \n",
    "    def usd(self):\n",
    "        return self.make_format('USD')\n",
    "    \n",
    "    def brl(self):\n",
    "        return self.make_format('BRL')\n",
    "    \n",
    "            \n",
    "    \n",
    "        \n",
    "        \n",
    "\n",
    "     \n",
    "\n",
    "\n",
    "    \n"
   ]
  },
  {
   "cell_type": "code",
   "execution_count": 289,
   "metadata": {},
   "outputs": [
    {
     "name": "stdout",
     "output_type": "stream",
     "text": [
      "Введите валютуUSD\n"
     ]
    },
    {
     "data": {
      "text/plain": [
       "-0.7780000000000058"
      ]
     },
     "execution_count": 289,
     "metadata": {},
     "output_type": "execute_result"
    }
   ],
   "source": [
    "Rate().diff(format_ = 'full', diff = True)"
   ]
  },
  {
   "cell_type": "code",
   "execution_count": 396,
   "metadata": {},
   "outputs": [],
   "source": [
    "class Employee:\n",
    "    def __init__(self, name, seniority, awards):\n",
    "        self.name = name\n",
    "        self.seniority = seniority\n",
    "        self.awards = awards\n",
    "        \n",
    "        self.grade = 1\n",
    "    \n",
    "    def grade_up(self):\n",
    "        \"\"\"Повышает уровень сотрудника\"\"\"\n",
    "        self.grade += 1\n",
    "    \n",
    "    def publish_grade(self):\n",
    "        \"\"\"Публикация результатов аккредитации сотрудников\"\"\"\n",
    "        print(self.name, self.grade)\n",
    "    \n",
    "    def check_if_it_is_time_for_upgrade(self):\n",
    "        pass"
   ]
  },
  {
   "cell_type": "code",
   "execution_count": 444,
   "metadata": {},
   "outputs": [],
   "source": [
    "class Designer(Employee):\n",
    "    def __init__(self, name, seniority, awards):\n",
    "        super().__init__(name, seniority, awards)\n",
    "    \n",
    "    def check_if_it_is_time_for_upgrade(self):\n",
    "        if self.awards % 2 ==0:\n",
    "            self.seniority = self.awards*2\n",
    "            self.seniority += 1\n",
    "            if self.seniority % 7 == 0:\n",
    "                self.grade_up()\n",
    "       \n",
    "\n",
    "        return self.publish_grade()"
   ]
  },
  {
   "cell_type": "code",
   "execution_count": 447,
   "metadata": {},
   "outputs": [],
   "source": [
    "elena = Designer('Елена', seniority=0, awards=2)"
   ]
  },
  {
   "cell_type": "code",
   "execution_count": 448,
   "metadata": {},
   "outputs": [
    {
     "name": "stdout",
     "output_type": "stream",
     "text": [
      "Елена 1\n",
      "Елена 1\n",
      "Елена 1\n",
      "Елена 1\n",
      "Елена 1\n",
      "Елена 1\n",
      "Елена 1\n",
      "Елена 1\n",
      "Елена 1\n",
      "Елена 1\n",
      "Елена 1\n",
      "Елена 1\n",
      "Елена 1\n",
      "Елена 1\n",
      "Елена 1\n",
      "Елена 1\n",
      "Елена 1\n",
      "Елена 1\n",
      "Елена 1\n",
      "Елена 1\n"
     ]
    }
   ],
   "source": [
    "for i in range(20):\n",
    "    elena.check_if_it_is_time_for_upgrade()"
   ]
  }
 ],
 "metadata": {
  "kernelspec": {
   "display_name": "Python 3",
   "language": "python",
   "name": "python3"
  },
  "language_info": {
   "codemirror_mode": {
    "name": "ipython",
    "version": 3
   },
   "file_extension": ".py",
   "mimetype": "text/x-python",
   "name": "python",
   "nbconvert_exporter": "python",
   "pygments_lexer": "ipython3",
   "version": "3.7.4"
  }
 },
 "nbformat": 4,
 "nbformat_minor": 2
}
